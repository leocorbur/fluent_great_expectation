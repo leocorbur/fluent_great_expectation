{
 "cells": [
  {
   "cell_type": "code",
   "execution_count": 1,
   "metadata": {},
   "outputs": [],
   "source": [
    "import pandas as pd\n",
    "import matplotlib.pyplot as plt"
   ]
  },
  {
   "cell_type": "code",
   "execution_count": 2,
   "metadata": {},
   "outputs": [],
   "source": [
    "# Download here \n",
    "# https://d37ci6vzurychx.cloudfront.net/trip-data/fhvhv_tripdata_2023-11.parquet\n",
    "file_path = 'data/fhvhv_tripdata_2023-11.parquet'"
   ]
  },
  {
   "cell_type": "code",
   "execution_count": 3,
   "metadata": {},
   "outputs": [],
   "source": [
    "df = pd.read_parquet(file_path)"
   ]
  },
  {
   "cell_type": "code",
   "execution_count": 4,
   "metadata": {},
   "outputs": [
    {
     "data": {
      "text/html": [
       "<div>\n",
       "<style scoped>\n",
       "    .dataframe tbody tr th:only-of-type {\n",
       "        vertical-align: middle;\n",
       "    }\n",
       "\n",
       "    .dataframe tbody tr th {\n",
       "        vertical-align: top;\n",
       "    }\n",
       "\n",
       "    .dataframe thead th {\n",
       "        text-align: right;\n",
       "    }\n",
       "</style>\n",
       "<table border=\"1\" class=\"dataframe\">\n",
       "  <thead>\n",
       "    <tr style=\"text-align: right;\">\n",
       "      <th></th>\n",
       "      <th>hvfhs_license_num</th>\n",
       "      <th>dispatching_base_num</th>\n",
       "      <th>originating_base_num</th>\n",
       "      <th>request_datetime</th>\n",
       "      <th>on_scene_datetime</th>\n",
       "      <th>pickup_datetime</th>\n",
       "      <th>dropoff_datetime</th>\n",
       "      <th>PULocationID</th>\n",
       "      <th>DOLocationID</th>\n",
       "      <th>trip_miles</th>\n",
       "      <th>...</th>\n",
       "      <th>sales_tax</th>\n",
       "      <th>congestion_surcharge</th>\n",
       "      <th>airport_fee</th>\n",
       "      <th>tips</th>\n",
       "      <th>driver_pay</th>\n",
       "      <th>shared_request_flag</th>\n",
       "      <th>shared_match_flag</th>\n",
       "      <th>access_a_ride_flag</th>\n",
       "      <th>wav_request_flag</th>\n",
       "      <th>wav_match_flag</th>\n",
       "    </tr>\n",
       "  </thead>\n",
       "  <tbody>\n",
       "    <tr>\n",
       "      <th>0</th>\n",
       "      <td>HV0003</td>\n",
       "      <td>B03404</td>\n",
       "      <td>B03404</td>\n",
       "      <td>2023-11-01 00:31:31</td>\n",
       "      <td>2023-11-01 00:34:10</td>\n",
       "      <td>2023-11-01 00:35:59</td>\n",
       "      <td>2023-11-01 00:44:09</td>\n",
       "      <td>144</td>\n",
       "      <td>79</td>\n",
       "      <td>0.88</td>\n",
       "      <td>...</td>\n",
       "      <td>1.76</td>\n",
       "      <td>2.75</td>\n",
       "      <td>0.0</td>\n",
       "      <td>0.00</td>\n",
       "      <td>12.18</td>\n",
       "      <td>N</td>\n",
       "      <td>N</td>\n",
       "      <td>N</td>\n",
       "      <td>N</td>\n",
       "      <td>N</td>\n",
       "    </tr>\n",
       "    <tr>\n",
       "      <th>1</th>\n",
       "      <td>HV0003</td>\n",
       "      <td>B03404</td>\n",
       "      <td>B03404</td>\n",
       "      <td>2023-11-01 00:52:22</td>\n",
       "      <td>2023-11-01 00:55:07</td>\n",
       "      <td>2023-11-01 00:56:06</td>\n",
       "      <td>2023-11-01 01:11:42</td>\n",
       "      <td>144</td>\n",
       "      <td>80</td>\n",
       "      <td>5.25</td>\n",
       "      <td>...</td>\n",
       "      <td>3.16</td>\n",
       "      <td>2.75</td>\n",
       "      <td>0.0</td>\n",
       "      <td>0.00</td>\n",
       "      <td>25.84</td>\n",
       "      <td>N</td>\n",
       "      <td>N</td>\n",
       "      <td>N</td>\n",
       "      <td>N</td>\n",
       "      <td>N</td>\n",
       "    </tr>\n",
       "    <tr>\n",
       "      <th>2</th>\n",
       "      <td>HV0003</td>\n",
       "      <td>B03404</td>\n",
       "      <td>B03404</td>\n",
       "      <td>2023-11-01 00:11:21</td>\n",
       "      <td>2023-11-01 00:14:32</td>\n",
       "      <td>2023-11-01 00:15:11</td>\n",
       "      <td>2023-11-01 00:17:51</td>\n",
       "      <td>187</td>\n",
       "      <td>187</td>\n",
       "      <td>0.47</td>\n",
       "      <td>...</td>\n",
       "      <td>0.71</td>\n",
       "      <td>0.00</td>\n",
       "      <td>0.0</td>\n",
       "      <td>0.00</td>\n",
       "      <td>10.90</td>\n",
       "      <td>N</td>\n",
       "      <td>N</td>\n",
       "      <td>N</td>\n",
       "      <td>N</td>\n",
       "      <td>N</td>\n",
       "    </tr>\n",
       "    <tr>\n",
       "      <th>3</th>\n",
       "      <td>HV0003</td>\n",
       "      <td>B03404</td>\n",
       "      <td>B03404</td>\n",
       "      <td>2023-11-01 00:38:28</td>\n",
       "      <td>2023-11-01 00:41:44</td>\n",
       "      <td>2023-11-01 00:42:19</td>\n",
       "      <td>2023-11-01 01:15:09</td>\n",
       "      <td>107</td>\n",
       "      <td>7</td>\n",
       "      <td>10.96</td>\n",
       "      <td>...</td>\n",
       "      <td>3.65</td>\n",
       "      <td>2.75</td>\n",
       "      <td>0.0</td>\n",
       "      <td>4.87</td>\n",
       "      <td>32.92</td>\n",
       "      <td>N</td>\n",
       "      <td>N</td>\n",
       "      <td>N</td>\n",
       "      <td>N</td>\n",
       "      <td>N</td>\n",
       "    </tr>\n",
       "    <tr>\n",
       "      <th>4</th>\n",
       "      <td>HV0005</td>\n",
       "      <td>B03406</td>\n",
       "      <td>None</td>\n",
       "      <td>2023-11-01 00:21:54</td>\n",
       "      <td>NaT</td>\n",
       "      <td>2023-11-01 00:28:14</td>\n",
       "      <td>2023-11-01 00:36:08</td>\n",
       "      <td>161</td>\n",
       "      <td>107</td>\n",
       "      <td>1.63</td>\n",
       "      <td>...</td>\n",
       "      <td>1.05</td>\n",
       "      <td>2.75</td>\n",
       "      <td>0.0</td>\n",
       "      <td>3.00</td>\n",
       "      <td>6.65</td>\n",
       "      <td>N</td>\n",
       "      <td>N</td>\n",
       "      <td>N</td>\n",
       "      <td>N</td>\n",
       "      <td>N</td>\n",
       "    </tr>\n",
       "  </tbody>\n",
       "</table>\n",
       "<p>5 rows × 24 columns</p>\n",
       "</div>"
      ],
      "text/plain": [
       "  hvfhs_license_num dispatching_base_num originating_base_num  \\\n",
       "0            HV0003               B03404               B03404   \n",
       "1            HV0003               B03404               B03404   \n",
       "2            HV0003               B03404               B03404   \n",
       "3            HV0003               B03404               B03404   \n",
       "4            HV0005               B03406                 None   \n",
       "\n",
       "     request_datetime   on_scene_datetime     pickup_datetime  \\\n",
       "0 2023-11-01 00:31:31 2023-11-01 00:34:10 2023-11-01 00:35:59   \n",
       "1 2023-11-01 00:52:22 2023-11-01 00:55:07 2023-11-01 00:56:06   \n",
       "2 2023-11-01 00:11:21 2023-11-01 00:14:32 2023-11-01 00:15:11   \n",
       "3 2023-11-01 00:38:28 2023-11-01 00:41:44 2023-11-01 00:42:19   \n",
       "4 2023-11-01 00:21:54                 NaT 2023-11-01 00:28:14   \n",
       "\n",
       "     dropoff_datetime  PULocationID  DOLocationID  trip_miles  ...  sales_tax  \\\n",
       "0 2023-11-01 00:44:09           144            79        0.88  ...       1.76   \n",
       "1 2023-11-01 01:11:42           144            80        5.25  ...       3.16   \n",
       "2 2023-11-01 00:17:51           187           187        0.47  ...       0.71   \n",
       "3 2023-11-01 01:15:09           107             7       10.96  ...       3.65   \n",
       "4 2023-11-01 00:36:08           161           107        1.63  ...       1.05   \n",
       "\n",
       "   congestion_surcharge  airport_fee  tips  driver_pay  shared_request_flag  \\\n",
       "0                  2.75          0.0  0.00       12.18                    N   \n",
       "1                  2.75          0.0  0.00       25.84                    N   \n",
       "2                  0.00          0.0  0.00       10.90                    N   \n",
       "3                  2.75          0.0  4.87       32.92                    N   \n",
       "4                  2.75          0.0  3.00        6.65                    N   \n",
       "\n",
       "   shared_match_flag  access_a_ride_flag  wav_request_flag wav_match_flag  \n",
       "0                  N                   N                 N              N  \n",
       "1                  N                   N                 N              N  \n",
       "2                  N                   N                 N              N  \n",
       "3                  N                   N                 N              N  \n",
       "4                  N                   N                 N              N  \n",
       "\n",
       "[5 rows x 24 columns]"
      ]
     },
     "execution_count": 4,
     "metadata": {},
     "output_type": "execute_result"
    }
   ],
   "source": [
    "df.head()"
   ]
  },
  {
   "cell_type": "code",
   "execution_count": 5,
   "metadata": {},
   "outputs": [
    {
     "data": {
      "text/plain": [
       "Index(['hvfhs_license_num', 'dispatching_base_num', 'originating_base_num',\n",
       "       'request_datetime', 'on_scene_datetime', 'pickup_datetime',\n",
       "       'dropoff_datetime', 'PULocationID', 'DOLocationID', 'trip_miles',\n",
       "       'trip_time', 'base_passenger_fare', 'tolls', 'bcf', 'sales_tax',\n",
       "       'congestion_surcharge', 'airport_fee', 'tips', 'driver_pay',\n",
       "       'shared_request_flag', 'shared_match_flag', 'access_a_ride_flag',\n",
       "       'wav_request_flag', 'wav_match_flag'],\n",
       "      dtype='object')"
      ]
     },
     "execution_count": 5,
     "metadata": {},
     "output_type": "execute_result"
    }
   ],
   "source": [
    "df.columns"
   ]
  },
  {
   "cell_type": "code",
   "execution_count": 6,
   "metadata": {},
   "outputs": [
    {
     "data": {
      "text/html": [
       "<div>\n",
       "<style scoped>\n",
       "    .dataframe tbody tr th:only-of-type {\n",
       "        vertical-align: middle;\n",
       "    }\n",
       "\n",
       "    .dataframe tbody tr th {\n",
       "        vertical-align: top;\n",
       "    }\n",
       "\n",
       "    .dataframe thead th {\n",
       "        text-align: right;\n",
       "    }\n",
       "</style>\n",
       "<table border=\"1\" class=\"dataframe\">\n",
       "  <thead>\n",
       "    <tr style=\"text-align: right;\">\n",
       "      <th></th>\n",
       "      <th>request_datetime</th>\n",
       "      <th>on_scene_datetime</th>\n",
       "      <th>pickup_datetime</th>\n",
       "      <th>dropoff_datetime</th>\n",
       "      <th>PULocationID</th>\n",
       "      <th>DOLocationID</th>\n",
       "      <th>trip_miles</th>\n",
       "      <th>trip_time</th>\n",
       "      <th>base_passenger_fare</th>\n",
       "      <th>driver_pay</th>\n",
       "    </tr>\n",
       "  </thead>\n",
       "  <tbody>\n",
       "    <tr>\n",
       "      <th>0</th>\n",
       "      <td>2023-11-01 00:31:31</td>\n",
       "      <td>2023-11-01 00:34:10</td>\n",
       "      <td>2023-11-01 00:35:59</td>\n",
       "      <td>2023-11-01 00:44:09</td>\n",
       "      <td>144</td>\n",
       "      <td>79</td>\n",
       "      <td>0.88</td>\n",
       "      <td>490</td>\n",
       "      <td>19.80</td>\n",
       "      <td>12.18</td>\n",
       "    </tr>\n",
       "    <tr>\n",
       "      <th>1</th>\n",
       "      <td>2023-11-01 00:52:22</td>\n",
       "      <td>2023-11-01 00:55:07</td>\n",
       "      <td>2023-11-01 00:56:06</td>\n",
       "      <td>2023-11-01 01:11:42</td>\n",
       "      <td>144</td>\n",
       "      <td>80</td>\n",
       "      <td>5.25</td>\n",
       "      <td>936</td>\n",
       "      <td>35.55</td>\n",
       "      <td>25.84</td>\n",
       "    </tr>\n",
       "    <tr>\n",
       "      <th>2</th>\n",
       "      <td>2023-11-01 00:11:21</td>\n",
       "      <td>2023-11-01 00:14:32</td>\n",
       "      <td>2023-11-01 00:15:11</td>\n",
       "      <td>2023-11-01 00:17:51</td>\n",
       "      <td>187</td>\n",
       "      <td>187</td>\n",
       "      <td>0.47</td>\n",
       "      <td>160</td>\n",
       "      <td>7.99</td>\n",
       "      <td>10.90</td>\n",
       "    </tr>\n",
       "    <tr>\n",
       "      <th>3</th>\n",
       "      <td>2023-11-01 00:38:28</td>\n",
       "      <td>2023-11-01 00:41:44</td>\n",
       "      <td>2023-11-01 00:42:19</td>\n",
       "      <td>2023-11-01 01:15:09</td>\n",
       "      <td>107</td>\n",
       "      <td>7</td>\n",
       "      <td>10.96</td>\n",
       "      <td>1970</td>\n",
       "      <td>34.24</td>\n",
       "      <td>32.92</td>\n",
       "    </tr>\n",
       "    <tr>\n",
       "      <th>4</th>\n",
       "      <td>2023-11-01 00:21:54</td>\n",
       "      <td>NaT</td>\n",
       "      <td>2023-11-01 00:28:14</td>\n",
       "      <td>2023-11-01 00:36:08</td>\n",
       "      <td>161</td>\n",
       "      <td>107</td>\n",
       "      <td>1.63</td>\n",
       "      <td>474</td>\n",
       "      <td>11.82</td>\n",
       "      <td>6.65</td>\n",
       "    </tr>\n",
       "  </tbody>\n",
       "</table>\n",
       "</div>"
      ],
      "text/plain": [
       "     request_datetime   on_scene_datetime     pickup_datetime  \\\n",
       "0 2023-11-01 00:31:31 2023-11-01 00:34:10 2023-11-01 00:35:59   \n",
       "1 2023-11-01 00:52:22 2023-11-01 00:55:07 2023-11-01 00:56:06   \n",
       "2 2023-11-01 00:11:21 2023-11-01 00:14:32 2023-11-01 00:15:11   \n",
       "3 2023-11-01 00:38:28 2023-11-01 00:41:44 2023-11-01 00:42:19   \n",
       "4 2023-11-01 00:21:54                 NaT 2023-11-01 00:28:14   \n",
       "\n",
       "     dropoff_datetime  PULocationID  DOLocationID  trip_miles  trip_time  \\\n",
       "0 2023-11-01 00:44:09           144            79        0.88        490   \n",
       "1 2023-11-01 01:11:42           144            80        5.25        936   \n",
       "2 2023-11-01 00:17:51           187           187        0.47        160   \n",
       "3 2023-11-01 01:15:09           107             7       10.96       1970   \n",
       "4 2023-11-01 00:36:08           161           107        1.63        474   \n",
       "\n",
       "   base_passenger_fare  driver_pay  \n",
       "0                19.80       12.18  \n",
       "1                35.55       25.84  \n",
       "2                 7.99       10.90  \n",
       "3                34.24       32.92  \n",
       "4                11.82        6.65  "
      ]
     },
     "execution_count": 6,
     "metadata": {},
     "output_type": "execute_result"
    }
   ],
   "source": [
    "exclude_columns = ['hvfhs_license_num','dispatching_base_num','originating_base_num',\n",
    "                   'tolls', 'bcf', 'sales_tax','congestion_surcharge', 'airport_fee', 'tips',\n",
    "                   'shared_request_flag', 'shared_match_flag', 'access_a_ride_flag',\n",
    "       'wav_request_flag', 'wav_match_flag']\n",
    "\n",
    "df = df.drop(columns=exclude_columns)\n",
    "df.head()"
   ]
  },
  {
   "cell_type": "code",
   "execution_count": 7,
   "metadata": {},
   "outputs": [
    {
     "name": "stdout",
     "output_type": "stream",
     "text": [
      "<class 'pandas.core.frame.DataFrame'>\n",
      "RangeIndex: 19269250 entries, 0 to 19269249\n",
      "Data columns (total 10 columns):\n",
      " #   Column               Dtype         \n",
      "---  ------               -----         \n",
      " 0   request_datetime     datetime64[us]\n",
      " 1   on_scene_datetime    datetime64[us]\n",
      " 2   pickup_datetime      datetime64[us]\n",
      " 3   dropoff_datetime     datetime64[us]\n",
      " 4   PULocationID         int32         \n",
      " 5   DOLocationID         int32         \n",
      " 6   trip_miles           float64       \n",
      " 7   trip_time            int64         \n",
      " 8   base_passenger_fare  float64       \n",
      " 9   driver_pay           float64       \n",
      "dtypes: datetime64[us](4), float64(3), int32(2), int64(1)\n",
      "memory usage: 1.3 GB\n"
     ]
    }
   ],
   "source": [
    "df.info()"
   ]
  },
  {
   "cell_type": "code",
   "execution_count": 11,
   "metadata": {},
   "outputs": [
    {
     "data": {
      "image/png": "[encoded data removed]",
      "text/plain": [
       "<Figure size 640x480 with 1 Axes>"
      ]
     },
     "metadata": {},
     "output_type": "display_data"
    }
   ],
   "source": [
    "plt.boxplot(df['trip_time'])\n",
    "plt.ylim(0,3000)\n",
    "plt.show()"
   ]
  },
  {
   "cell_type": "code",
   "execution_count": 12,
   "metadata": {},
   "outputs": [
    {
     "data": {
      "text/plain": [
       "(array([  193671.,  3025954., 13110152.,  2834886.,   102753.]),\n",
       " array([    0.,   200.,   500.,  2000.,  5000., 10000.]),\n",
       " <BarContainer object of 5 artists>)"
      ]
     },
     "execution_count": 12,
     "metadata": {},
     "output_type": "execute_result"
    },
    {
     "data": {
      "image/png": "[encoded data removed]",
      "text/plain": [
       "<Figure size 640x480 with 1 Axes>"
      ]
     },
     "metadata": {},
     "output_type": "display_data"
    }
   ],
   "source": [
    "plt.hist(df['trip_time'], bins=[0,200,500,2000, 5000,10000])"
   ]
  },
  {
   "cell_type": "code",
   "execution_count": 27,
   "metadata": {},
   "outputs": [
    {
     "data": {
      "image/png": "[encoded data removed]",
      "text/plain": [
       "<Figure size 640x480 with 1 Axes>"
      ]
     },
     "metadata": {},
     "output_type": "display_data"
    }
   ],
   "source": [
    "plt.boxplot(df['trip_miles'])\n",
    "plt.ylim(0,40)\n",
    "plt.show()"
   ]
  },
  {
   "cell_type": "code",
   "execution_count": 13,
   "metadata": {},
   "outputs": [
    {
     "data": {
      "text/plain": [
       "(array([1.926718e+07, 1.988000e+03, 7.800000e+01, 3.000000e+00,\n",
       "        1.000000e+00]),\n",
       " array([  0.   ,  96.352, 192.704, 289.056, 385.408, 481.76 ]),\n",
       " <BarContainer object of 5 artists>)"
      ]
     },
     "execution_count": 13,
     "metadata": {},
     "output_type": "execute_result"
    },
    {
     "data": {
      "image/png": "[encoded data removed]",
      "text/plain": [
       "<Figure size 640x480 with 1 Axes>"
      ]
     },
     "metadata": {},
     "output_type": "display_data"
    }
   ],
   "source": [
    "plt.hist(df['trip_miles'], bins=5)"
   ]
  },
  {
   "cell_type": "code",
   "execution_count": 25,
   "metadata": {},
   "outputs": [
    {
     "data": {
      "image/png": "[encoded data removed]",
      "text/plain": [
       "<Figure size 640x480 with 1 Axes>"
      ]
     },
     "metadata": {},
     "output_type": "display_data"
    }
   ],
   "source": [
    "plt.boxplot(df['base_passenger_fare'])\n",
    "plt.ylim(0,100)\n",
    "plt.show()"
   ]
  },
  {
   "cell_type": "code",
   "execution_count": 21,
   "metadata": {},
   "outputs": [
    {
     "data": {
      "text/plain": [
       "(array([1.5300000e+02, 3.0061570e+06, 1.4469253e+07, 1.5249980e+06,\n",
       "        2.6834500e+05, 2.3300000e+02]),\n",
       " array([-10.,   0.,  10.,  50., 100., 500., 700.]),\n",
       " <BarContainer object of 6 artists>)"
      ]
     },
     "execution_count": 21,
     "metadata": {},
     "output_type": "execute_result"
    },
    {
     "data": {
      "image/png": "[encoded data removed]",
      "text/plain": [
       "<Figure size 640x480 with 1 Axes>"
      ]
     },
     "metadata": {},
     "output_type": "display_data"
    }
   ],
   "source": [
    "plt.hist(df['base_passenger_fare'], bins=[-10,0,10,50,100,500,700])"
   ]
  },
  {
   "cell_type": "code",
   "execution_count": 31,
   "metadata": {},
   "outputs": [
    {
     "data": {
      "text/plain": [
       "(array([4.9000000e+01, 5.8428840e+06, 1.2362049e+07, 9.7289400e+05,\n",
       "        9.1264000e+04, 7.2000000e+01]),\n",
       " array([-10.,   0.,  10.,  50., 100., 500., 700.]),\n",
       " <BarContainer object of 6 artists>)"
      ]
     },
     "execution_count": 31,
     "metadata": {},
     "output_type": "execute_result"
    },
    {
     "data": {
      "image/png": "[encoded data removed]",
      "text/plain": [
       "<Figure size 640x480 with 1 Axes>"
      ]
     },
     "metadata": {},
     "output_type": "display_data"
    }
   ],
   "source": [
    "plt.hist(df['driver_pay'], bins=[-10,0,10,50,100,500,700])"
   ]
  },
  {
   "cell_type": "code",
   "execution_count": 32,
   "metadata": {},
   "outputs": [
    {
     "name": "stdout",
     "output_type": "stream",
     "text": [
      "Cantidad de valores nulos por columna:\n",
      "request_datetime           0\n",
      "on_scene_datetime    5469048\n",
      "pickup_datetime            0\n",
      "dropoff_datetime           0\n",
      "dtype: int64\n"
     ]
    }
   ],
   "source": [
    "time_columns = ['request_datetime', 'on_scene_datetime', 'pickup_datetime', 'dropoff_datetime']\n",
    "cantidad_nulos_por_columna = df[time_columns].isnull().sum()\n",
    "print(\"Cantidad de valores nulos por columna:\")\n",
    "print(cantidad_nulos_por_columna)"
   ]
  },
  {
   "cell_type": "code",
   "execution_count": null,
   "metadata": {},
   "outputs": [],
   "source": [
    "# base_passenger_fare: 5 @ 500\n",
    "# driver_pay: 5 @ 500\n",
    "# trip_miles : 0.2 @ 100\n",
    "# trip_time: 500 @ 5000\n",
    "# nulls in time columns\n",
    "# PULocationID - DOLocationID : 1@265"
   ]
  },
  {
   "cell_type": "code",
   "execution_count": 13,
   "metadata": {},
   "outputs": [
    {
     "data": {
      "text/html": [
       "<div>\n",
       "<style scoped>\n",
       "    .dataframe tbody tr th:only-of-type {\n",
       "        vertical-align: middle;\n",
       "    }\n",
       "\n",
       "    .dataframe tbody tr th {\n",
       "        vertical-align: top;\n",
       "    }\n",
       "\n",
       "    .dataframe thead th {\n",
       "        text-align: right;\n",
       "    }\n",
       "</style>\n",
       "<table border=\"1\" class=\"dataframe\">\n",
       "  <thead>\n",
       "    <tr style=\"text-align: right;\">\n",
       "      <th></th>\n",
       "      <th>request_datetime</th>\n",
       "      <th>on_scene_datetime</th>\n",
       "      <th>pickup_datetime</th>\n",
       "      <th>dropoff_datetime</th>\n",
       "      <th>PULocationID</th>\n",
       "      <th>DOLocationID</th>\n",
       "      <th>trip_miles</th>\n",
       "      <th>trip_time</th>\n",
       "      <th>base_passenger_fare</th>\n",
       "      <th>driver_pay</th>\n",
       "    </tr>\n",
       "  </thead>\n",
       "  <tbody>\n",
       "    <tr>\n",
       "      <th>0</th>\n",
       "      <td>2023-11-01 00:31:31</td>\n",
       "      <td>2023-11-01 00:34:10</td>\n",
       "      <td>2023-11-01 00:35:59</td>\n",
       "      <td>2023-11-01 00:44:09</td>\n",
       "      <td>144</td>\n",
       "      <td>79</td>\n",
       "      <td>0.88</td>\n",
       "      <td>490</td>\n",
       "      <td>19.80</td>\n",
       "      <td>12.18</td>\n",
       "    </tr>\n",
       "    <tr>\n",
       "      <th>1</th>\n",
       "      <td>2023-11-01 00:52:22</td>\n",
       "      <td>2023-11-01 00:55:07</td>\n",
       "      <td>2023-11-01 00:56:06</td>\n",
       "      <td>2023-11-01 01:11:42</td>\n",
       "      <td>144</td>\n",
       "      <td>80</td>\n",
       "      <td>5.25</td>\n",
       "      <td>936</td>\n",
       "      <td>35.55</td>\n",
       "      <td>25.84</td>\n",
       "    </tr>\n",
       "    <tr>\n",
       "      <th>2</th>\n",
       "      <td>2023-11-01 00:11:21</td>\n",
       "      <td>2023-11-01 00:14:32</td>\n",
       "      <td>2023-11-01 00:15:11</td>\n",
       "      <td>2023-11-01 00:17:51</td>\n",
       "      <td>187</td>\n",
       "      <td>187</td>\n",
       "      <td>0.47</td>\n",
       "      <td>160</td>\n",
       "      <td>7.99</td>\n",
       "      <td>10.90</td>\n",
       "    </tr>\n",
       "    <tr>\n",
       "      <th>3</th>\n",
       "      <td>2023-11-01 00:38:28</td>\n",
       "      <td>2023-11-01 00:41:44</td>\n",
       "      <td>2023-11-01 00:42:19</td>\n",
       "      <td>2023-11-01 01:15:09</td>\n",
       "      <td>107</td>\n",
       "      <td>7</td>\n",
       "      <td>10.96</td>\n",
       "      <td>1970</td>\n",
       "      <td>34.24</td>\n",
       "      <td>32.92</td>\n",
       "    </tr>\n",
       "    <tr>\n",
       "      <th>4</th>\n",
       "      <td>2023-11-01 00:21:54</td>\n",
       "      <td>NaT</td>\n",
       "      <td>2023-11-01 00:28:14</td>\n",
       "      <td>2023-11-01 00:36:08</td>\n",
       "      <td>161</td>\n",
       "      <td>107</td>\n",
       "      <td>1.63</td>\n",
       "      <td>474</td>\n",
       "      <td>11.82</td>\n",
       "      <td>6.65</td>\n",
       "    </tr>\n",
       "  </tbody>\n",
       "</table>\n",
       "</div>"
      ],
      "text/plain": [
       "     request_datetime   on_scene_datetime     pickup_datetime  \\\n",
       "0 2023-11-01 00:31:31 2023-11-01 00:34:10 2023-11-01 00:35:59   \n",
       "1 2023-11-01 00:52:22 2023-11-01 00:55:07 2023-11-01 00:56:06   \n",
       "2 2023-11-01 00:11:21 2023-11-01 00:14:32 2023-11-01 00:15:11   \n",
       "3 2023-11-01 00:38:28 2023-11-01 00:41:44 2023-11-01 00:42:19   \n",
       "4 2023-11-01 00:21:54                 NaT 2023-11-01 00:28:14   \n",
       "\n",
       "     dropoff_datetime  PULocationID  DOLocationID  trip_miles  trip_time  \\\n",
       "0 2023-11-01 00:44:09           144            79        0.88        490   \n",
       "1 2023-11-01 01:11:42           144            80        5.25        936   \n",
       "2 2023-11-01 00:17:51           187           187        0.47        160   \n",
       "3 2023-11-01 01:15:09           107             7       10.96       1970   \n",
       "4 2023-11-01 00:36:08           161           107        1.63        474   \n",
       "\n",
       "   base_passenger_fare  driver_pay  \n",
       "0                19.80       12.18  \n",
       "1                35.55       25.84  \n",
       "2                 7.99       10.90  \n",
       "3                34.24       32.92  \n",
       "4                11.82        6.65  "
      ]
     },
     "execution_count": 13,
     "metadata": {},
     "output_type": "execute_result"
    }
   ],
   "source": [
    "df.head()"
   ]
  },
  {
   "cell_type": "code",
   "execution_count": 14,
   "metadata": {},
   "outputs": [],
   "source": [
    "# Split the DataFrame into parts of 400 thousand rows each\n",
    "num_rows_per_file = 4000000\n",
    "num_files = len(df) // num_rows_per_file\n",
    "\n",
    "for i in range(num_files):\n",
    "    start_index = i * num_rows_per_file\n",
    "    end_index = start_index + num_rows_per_file\n",
    "    subset_df = df.iloc[start_index:end_index]\n",
    "    subset_df.to_parquet(f'data/batch_{i}.parquet')\n",
    "\n",
    "# Save the remaining records into a final file if there are less than 400 thousand records\n",
    "if len(df) % num_rows_per_file != 0:\n",
    "    remaining_df = df.iloc[num_files * num_rows_per_file:]\n",
    "    remaining_df.to_parquet(f'data/batch_{num_files}.parquet')"
   ]
  }
 ],
 "metadata": {
  "kernelspec": {
   "display_name": "Python 3",
   "language": "python",
   "name": "python3"
  },
  "language_info": {
   "codemirror_mode": {
    "name": "ipython",
    "version": 3
   },
   "file_extension": ".py",
   "mimetype": "text/x-python",
   "name": "python",
   "nbconvert_exporter": "python",
   "pygments_lexer": "ipython3",
   "version": "3.11.7"
  }
 },
 "nbformat": 4,
 "nbformat_minor": 2
}
